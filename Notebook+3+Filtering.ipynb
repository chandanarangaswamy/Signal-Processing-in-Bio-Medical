{
 "cells": [
  {
   "cell_type": "code",
   "execution_count": 3,
   "metadata": {},
   "outputs": [
    {
     "ename": "SyntaxError",
     "evalue": "invalid syntax (<ipython-input-3-20ece7d1a95f>, line 2)",
     "output_type": "error",
     "traceback": [
      "\u001b[1;36m  File \u001b[1;32m\"<ipython-input-3-20ece7d1a95f>\"\u001b[1;36m, line \u001b[1;32m2\u001b[0m\n\u001b[1;33m    --------------\u001b[0m\n\u001b[1;37m                  ^\u001b[0m\n\u001b[1;31mSyntaxError\u001b[0m\u001b[1;31m:\u001b[0m invalid syntax\n"
     ]
    }
   ],
   "source": [
    "Introduction\n",
    "--------------\n",
    "\n",
    "Filtering means preserving certain favored signal frequencies while simultaneously suppressing others. At first, this may seem as easy as simply removing  all the offending frequencies of interest in the Fourier transform and keeping the rest, but practical considerations prohibit this. \n",
    "\n",
    "There are many approaches to filtering and the following shows an example of a finite impulse response (FIR) filter. \n",
    "\n",
    "As discussed before FIR filters have no feedback loops, which means that they only depend on the input. They are usually easy-to-understand and allow for flexible design specifications. "
   ]
  },
  {
   "cell_type": "markdown",
   "metadata": {},
   "source": [
    "### Finite Impulse Response Filters as Moving Averages\n",
    "\n",
    "Finite Impulse Response (FIR) filters have the following form: \n",
    "\n",
    "$$ y_n = \\sum_{k=0}^{M-1} h_k x_{n-k} $$\n",
    "\n",
    "the input is $ x_n $ and the output $ y_n $. As we can see the output only depends on the input from some time before the sampling (i.e. $n-k$). This is a finite impulse response because they stop after running out of input. Some time they are named  *moving average* filters or *all-zero* filters. $ M $  determines the number of coefficients that the filter has, which means that the output depents on the input with two coefficients applied to it.\n",
    "\n",
    "Given an FIR filter with 2 coefficients, $ h_0 = h_1 = 1/2 $, the output will be obtained by doing the operation\n",
    "\n",
    "$$ y_n = x_{n}/2 + x_{n-1}/2 $$\n",
    "\n",
    "So if we have an input $ x_n=1 \\hspace{.5em} \\forall n \\ge 0 $,  the output will be then $ y_n = 1 \\hspace{.5em} \\forall n \\ge 1  $. \n",
    "\n",
    "Note that we lose one sample in filling the filter for $ n=0 $ which means we have to wait one sample for a valid filter output. This wait time is called a *transient* state.\n",
    "\n",
    "For an input \n",
    " $ x_n= \\exp \\left( j\\pi n \\right)  \\hspace{.5em} \\forall n\\ge 0 $, then $ y_n=0 \\forall n \\ge 1  $. \n",
    " \n",
    "These kind of filters eliminate the highest frequency signal ($ \\omega=\\pi $) and preserve the lowest frequency signal ($ \\omega=0 $).\n",
    "\n",
    "We can actually analyze this filter using the tools in the `scipy.signal` module.\n"
   ]
  },
  {
   "cell_type": "markdown",
   "metadata": {},
   "source": [
    "# %matplotlib inline\n",
    "from __future__ import division\n",
    "from scipy import signal \n",
    "import numpy as np\n",
    "import matplotlib.pyplot as plt\n",
    "\n",
    "#this here only adjust the aspect of the plots\n",
    "fig, axs = plt.subplots(2,1,sharex=True)\n",
    "plt.subplots_adjust( hspace = .5 )\n",
    "fig.set_size_inches((5,5))\n",
    "\n",
    "ax=axs[0]\n",
    "w,h=signal.freqz([1/2., 1/2.],1) #we compute impulse response for the filter above (coefficients)\n",
    "ax.plot(w,20*np.log10(abs(h))) #we plot the logarithmic response as a function of the frequency in radians\n",
    "ax.set_ylabel(r\"$20 \\log_{10} |H(\\omega)| $\",fontsize=16)\n",
    "ax.grid()\n",
    "\n",
    "ax=axs[1]\n",
    "ax.plot(w,np.angle(h)/np.pi*180) #we compute the phase of the response in degrees\n",
    "ax.set_xlabel(r'$\\omega$ (radians/s)',fontsize=16)\n",
    "ax.set_ylabel(r\"$\\phi $ (deg)\",fontsize=16)\n",
    "ax.set_xlim(xmax = np.pi)\n",
    "ax.grid()"
   ]
  },
  {
   "cell_type": "markdown",
   "metadata": {},
   "source": [
    "The top plot shows the amplitude response of the filter (in dB) and the bottom plot shows the phase response in degrees. At $\\omega=0 $, we have $|H(\\omega=0)|=1 $ (i.e unity-gain) which says that our moving average filter will not alter the amplitude of the signals at $ \\omega=0 $. \n",
    "\n",
    "When we reach $\\omega= \\pi $, we have a small attenuation and for higher frequencies we will filter. Thus, signals at high frequencies are attenuated or we have a low pass filter.\n",
    "\n",
    "The following example will use 8 moving average filter-length."
   ]
  },
  {
   "cell_type": "code",
   "execution_count": 4,
   "metadata": {},
   "outputs": [
    {
     "ename": "NameError",
     "evalue": "name 'plt' is not defined",
     "output_type": "error",
     "traceback": [
      "\u001b[1;31m---------------------------------------------------------------------------\u001b[0m",
      "\u001b[1;31mNameError\u001b[0m                                 Traceback (most recent call last)",
      "\u001b[1;32m<ipython-input-4-49fdbae586a3>\u001b[0m in \u001b[0;36m<module>\u001b[1;34m()\u001b[0m\n\u001b[0;32m      1\u001b[0m \u001b[1;32mfrom\u001b[0m \u001b[0mmatplotlib\u001b[0m \u001b[1;32mimport\u001b[0m \u001b[0mgridspec\u001b[0m\u001b[1;33m\u001b[0m\u001b[0m\n\u001b[0;32m      2\u001b[0m \u001b[1;33m\u001b[0m\u001b[0m\n\u001b[1;32m----> 3\u001b[1;33m \u001b[0mfig\u001b[0m\u001b[1;33m=\u001b[0m\u001b[0mplt\u001b[0m\u001b[1;33m.\u001b[0m\u001b[0mfigure\u001b[0m\u001b[1;33m(\u001b[0m\u001b[1;33m)\u001b[0m\u001b[1;33m\u001b[0m\u001b[0m\n\u001b[0m\u001b[0;32m      4\u001b[0m \u001b[0mfig\u001b[0m\u001b[1;33m.\u001b[0m\u001b[0mset_size_inches\u001b[0m\u001b[1;33m(\u001b[0m\u001b[1;33m(\u001b[0m\u001b[1;36m10\u001b[0m\u001b[1;33m,\u001b[0m\u001b[1;36m5\u001b[0m\u001b[1;33m)\u001b[0m\u001b[1;33m)\u001b[0m\u001b[1;33m\u001b[0m\u001b[0m\n\u001b[0;32m      5\u001b[0m \u001b[1;33m\u001b[0m\u001b[0m\n",
      "\u001b[1;31mNameError\u001b[0m: name 'plt' is not defined"
     ]
    }
   ],
   "source": [
    "from matplotlib import gridspec\n",
    "\n",
    "fig=plt.figure()\n",
    "fig.set_size_inches((10,5))\n",
    "\n",
    "gs = gridspec.GridSpec(2,2)\n",
    "gs.update( wspace=0.5, hspace=0.5)\n",
    "\n",
    "ax = fig.add_subplot(plt.subplot(gs[0,0]))\n",
    "\n",
    "ma_length = 3 # moving average filter length\n",
    "w,h=signal.freqz(np.ones(ma_length)/ma_length,1)\n",
    "ax.plot(w,20*np.log10(abs(h)))\n",
    "ax.set_ylabel(r\"$ 20 \\log_{10}|H(\\omega)| $\",fontsize=18)\n",
    "ax.set_xlabel(r\"$\\omega$\",fontsize=18)\n",
    "ax.vlines(np.pi/3,-25,0,linestyles=':',color='r',lw=3.)\n",
    "ax.set_ylim(ymin=-25)\n",
    "ax.grid()\n",
    "\n",
    "ax = fig.add_subplot(plt.subplot(gs[0,1]))\n",
    "ax.plot(w,np.angle(h)/np.pi*180)\n",
    "ax.set_xlabel(r'$\\omega$ (radians/s)',fontsize=18)\n",
    "ax.set_ylabel(r\"$\\phi $ (deg)\",fontsize=16)\n",
    "ax.set_xlim(xmax = np.pi)\n",
    "ax.set_ylim(ymin=-180,ymax=180)\n",
    "ax.vlines(np.pi/3,-180,180,linestyles=':',color='r',lw=3.)\n",
    "ax.grid()\n",
    "\n",
    "ma_length = 9 # moving average filter length\n",
    "w,h=signal.freqz(np.ones(ma_length)/ma_length,1)\n",
    "ax = fig.add_subplot(plt.subplot(gs[1,0]))\n",
    "ax.plot(w,20*np.log10(abs(h)))\n",
    "ax.set_ylabel(r\"$ 20 \\log_{10}|H(\\omega)| $\",fontsize=18)\n",
    "ax.set_xlabel(r\"$\\omega$\",fontsize=18)\n",
    "ax.vlines(np.pi/3,-25,0,linestyles=':',color='r',lw=3.)\n",
    "ax.set_ylim(ymin=-25)\n",
    "ax.grid()\n",
    "\n",
    "ax = fig.add_subplot(plt.subplot(gs[0,1]))\n",
    "ax = fig.add_subplot(plt.subplot(gs[1,1]))\n",
    "ax.plot(w,np.angle(h)/np.pi*180)\n",
    "ax.set_xlabel(r'$\\omega$ (radians/s)',fontsize=18)\n",
    "ax.set_ylabel(r\"$\\phi $ (deg)\",fontsize=16)\n",
    "ax.set_xlim(xmax = np.pi)\n",
    "ax.set_ylim(ymin=-180,ymax=180)\n",
    "ax.vlines(np.pi/3,-180,180,linestyles=':',color='r',lw=3.)\n",
    "ax.grid()"
   ]
  },
  {
   "cell_type": "markdown",
   "metadata": {},
   "source": [
    "Let's see the input and output for this last filter. We have an input $cos$ signal with a $\\pi/3$rad frequency and we apply the filter"
   ]
  },
  {
   "cell_type": "code",
   "execution_count": 5,
   "metadata": {},
   "outputs": [
    {
     "ename": "NameError",
     "evalue": "name 'plt' is not defined",
     "output_type": "error",
     "traceback": [
      "\u001b[1;31m---------------------------------------------------------------------------\u001b[0m",
      "\u001b[1;31mNameError\u001b[0m                                 Traceback (most recent call last)",
      "\u001b[1;32m<ipython-input-5-1a2fe1f778e2>\u001b[0m in \u001b[0;36m<module>\u001b[1;34m()\u001b[0m\n\u001b[1;32m----> 1\u001b[1;33m \u001b[0mfig\u001b[0m\u001b[1;33m=\u001b[0m\u001b[0mplt\u001b[0m\u001b[1;33m.\u001b[0m\u001b[0mfigure\u001b[0m\u001b[1;33m(\u001b[0m\u001b[1;33m)\u001b[0m\u001b[1;33m\u001b[0m\u001b[0m\n\u001b[0m\u001b[0;32m      2\u001b[0m \u001b[0mfig\u001b[0m\u001b[1;33m.\u001b[0m\u001b[0mset_size_inches\u001b[0m\u001b[1;33m(\u001b[0m\u001b[1;33m(\u001b[0m\u001b[1;36m10\u001b[0m\u001b[1;33m,\u001b[0m\u001b[1;36m5\u001b[0m\u001b[1;33m)\u001b[0m\u001b[1;33m)\u001b[0m\u001b[1;33m\u001b[0m\u001b[0m\n\u001b[0;32m      3\u001b[0m \u001b[1;33m\u001b[0m\u001b[0m\n\u001b[0;32m      4\u001b[0m \u001b[0max\u001b[0m \u001b[1;33m=\u001b[0m \u001b[0mfig\u001b[0m\u001b[1;33m.\u001b[0m\u001b[0madd_subplot\u001b[0m\u001b[1;33m(\u001b[0m\u001b[0mplt\u001b[0m\u001b[1;33m.\u001b[0m\u001b[0msubplot\u001b[0m\u001b[1;33m(\u001b[0m\u001b[0mgs\u001b[0m\u001b[1;33m[\u001b[0m\u001b[1;36m1\u001b[0m\u001b[1;33m,\u001b[0m\u001b[1;33m:\u001b[0m\u001b[1;33m]\u001b[0m\u001b[1;33m)\u001b[0m\u001b[1;33m)\u001b[0m\u001b[1;33m\u001b[0m\u001b[0m\n\u001b[0;32m      5\u001b[0m \u001b[0mNs\u001b[0m\u001b[1;33m=\u001b[0m\u001b[1;36m30\u001b[0m\u001b[1;33m\u001b[0m\u001b[0m\n",
      "\u001b[1;31mNameError\u001b[0m: name 'plt' is not defined"
     ]
    }
   ],
   "source": [
    "fig=plt.figure()\n",
    "fig.set_size_inches((10,5))\n",
    "\n",
    "ax = fig.add_subplot(plt.subplot(gs[1,:]))\n",
    "Ns=30\n",
    "n= np.arange(Ns)\n",
    "x = np.cos(np.arange(Ns)*np.pi/3.)  #building the signal with a frequency of 2pi/6\n",
    "y= signal.lfilter(np.ones(ma_length)/ma_length,1,x)  #applying the filter that uses 8 coefficients that are equal to 1\n",
    "\n",
    "ax.stem(n,x,label='input',basefmt='b-')\n",
    "ax.plot(n,x,':')\n",
    "ax.stem(n[ma_length-1:],y[:-ma_length+1],markerfmt='ro',linefmt='r-',label='output')\n",
    "ax.plot(n[ma_length-1:],y[:-ma_length+1],'r:')\n",
    "ax.set_xlim(xmin=-1.1)\n",
    "ax.set_ylim(ymin=-1.1,ymax=1.1)\n",
    "ax.set_xlabel(\"n\",fontsize=18)\n",
    "ax.set_xticks(n)\n",
    "ax.legend(loc=0)\n",
    "ax.set_ylabel(\"amplitude\",fontsize=18);"
   ]
  },
  {
   "cell_type": "markdown",
   "metadata": {},
   "source": [
    "The figure shows the magnitude was indeed affected since at that frequency we do have an attenuation (see the vertical line made at $\\pi/2$ rad. The phase is also affected because of the moving average and the output is delayed by the length of the input filter. \n",
    "\n",
    "Because the frequency of the input signal is $ 2\\pi/6 $, and its period is $T=6$ samples, the input signal repeats every six samples. \n",
    "\n",
    "The phase at this discrete frequency is approximately 30 degrees plus and the output sequence is shifted over by half a sample ($ 30/360 = 0.5/6 $) plus the 3 samples (half the six sample period, $ 180/360=1/2 $). "
   ]
  },
  {
   "cell_type": "markdown",
   "metadata": {},
   "source": [
    "## Summary"
   ]
  },
  {
   "cell_type": "markdown",
   "metadata": {},
   "source": [
    "In this example we show a simple FIR filter by defining FIR filter coefficients. We defined a filter and then investigated its effects on the signal and its frequency response.\n",
    "\n",
    "However, in a real situation, we should define a desired filter specification and obtain the right coefficients that allow us to obtain the desired behaviour. \n",
    "\n",
    "Test your knowledge:\n",
    "* Modify the code above to see the frequency response of a filter that averages 3 inputs (this example has averaged 3 first, then 9) and describe the behaviour of this new filter\n",
    "* You will be asked to discuss the applicability of this filter for an $\\omega=1$\n",
    "\n",
    "Comments and corrections welcome!"
   ]
  },
  {
   "cell_type": "markdown",
   "metadata": {},
   "source": [
    "References\n",
    "---------------\n",
    "\n",
    "* Proakis, John G. ,*Digital signal processing: principles algorithms and applications*. Pearson Education India, 2001."
   ]
  }
 ],
 "metadata": {
  "anaconda-cloud": {},
  "kernelspec": {
   "display_name": "Python 2",
   "language": "python",
   "name": "python2"
  },
  "language_info": {
   "codemirror_mode": {
    "name": "ipython",
    "version": 2
   },
   "file_extension": ".py",
   "mimetype": "text/x-python",
   "name": "python",
   "nbconvert_exporter": "python",
   "pygments_lexer": "ipython2",
   "version": "2.7.13"
  }
 },
 "nbformat": 4,
 "nbformat_minor": 1
}
