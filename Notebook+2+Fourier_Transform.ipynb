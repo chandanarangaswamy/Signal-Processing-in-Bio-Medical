{
 "cells": [
  {
   "cell_type": "markdown",
   "metadata": {},
   "source": [
    "Introduction\n",
    "--------------\n",
    "\n",
    "The Fourier Transform is one of the most powerful and well known tools to analyse frequency behaviour. As such, it allows performing many operations in signal and imaging processing such as filtering, signal evaluation, signal characterization, etc.\n",
    "\n",
    "In particular for medical applications some of the most widespread applications of Fourier Transform in signal processing are:\n",
    "1. Filtering the signal to extract the information from the noise (i.e. the respiration rate will add important noise to an ECG signal but its frequency is much lower and can then be subtracted)\n",
    "2. Evaluating the magnitude at specific frequencies of the signal to evaluate thresholds in an acquired signal (i.e. the detection of a seizure onset in EEG is characterized for large broadband signals)\n",
    "3. The appearance of harmonics within a signal which may indicate there is an abnormality (i.e. the detection of harmonics in an ECG may indicate an arhytmia)\n",
    "\n",
    "Fourier transforms present important properties that allow to combine analysis in frequency with simplicity:\n",
    "1. Linearity: the transform of a sum is the sum of the transforms\n",
    "2. Symmetry: the transform of the negative frequency is the conjugate of the transform\n",
    "3. Convolution: the transform of a convolution is the product of each transform\n",
    "\n",
    "In addition, filter design using frequency response is an important feature, and analysis of the response of a digital filter is usually done as a function of frequency:\n",
    "1. It is often necessary to understand the behaviour of your signal before proposing the design of a filter\n",
    "2. Once a filter is chosen, the impact of the order on the frequency behaviour of the filter and how that may affect the signal is important\n",
    "\n",
    "The Discrete Fourier Transform (DFT) is the primary analysis tool for Fourier Transform nowadays since much of the processing is performed on digitized signals.\n",
    "\n",
    "Using the DFT is equivalent to obtain a periodic signal out of a sequence (samples) of values.\n",
    "\n",
    "This notebook will show how the DFT is implemented on a signal and how we can detect the presence and main frequency components of noise within the signal as well as the main frequency of the signal of interest.\n",
    "\n",
    "We will work on an ultrasound signal that was acquired over time where some noise appears at some time point (we will determine when) and we will analyse the frequency component of the noise and the signal.\n",
    "\n",
    "Some specifics about this acquired file: we obtained 15000 samples with a frequency of sampling of 125MHz, then waited another trigger and repeated for a total of 462 times.\n",
    "\n",
    "We will also use this as an example on Python and simple signal analysis using Python.\n",
    "\n",
    "We will start by opening the binary file where the signal was stored in unsigned integer (16 bits) and reading all the data into an array:\n"
   ]
  },
  {
   "cell_type": "code",
   "execution_count": 6,
   "metadata": {},
   "outputs": [
    {
     "name": "stdout",
     "output_type": "stream",
     "text": [
      "\n",
      " The length of the file is: 6930000 as expected from 15000 samples x 462 lines\n",
      "\n",
      " The length of the time array is: 15000\n"
     ]
    },
    {
     "data": {
      "image/png": "[encoded data removed]",
      "text/plain": [
       "<matplotlib.figure.Figure at 0x92ac0b8>"
      ]
     },
     "metadata": {},
     "output_type": "display_data"
    }
   ],
   "source": [
    "#we have first this command that initialize and matplotlib (library) for plotting and we specify that we want those plots inline in this notebook\n",
    "%matplotlib inline\n",
    "\n",
    "#now we import different packages that will allow to do math, lineal algebra, numerical operations, array operations and plotting\n",
    "import scipy as Sci\n",
    "import scipy.linalg\n",
    "import numpy as np\n",
    "import pylab as pl\n",
    "import matplotlib.pyplot as plt\n",
    "\n",
    "#we use a simple open command for the file (basic Python)\n",
    "f = open('UltrasoundSampleSignal.dat','rb')\n",
    "#we read it using a numpy (therefore the np.) command that allows direct reading from file into an array\n",
    "AllSignal = np.fromfile(f,count=-1,dtype=np.uint16)\n",
    "#to verify the size of the file I am printing here the lenght of that array \n",
    "print('\\n The length of the file is: ' + str(len(AllSignal)) + ' as expected from 15000 samples x 462 lines')\n",
    "#we will now populate an array for the time which we now is 1/125MHz step for a total of 15000\n",
    "x=np.arange(0,15000/125e6,1/125e6)  #start,stop,step\n",
    "print('\\n The length of the time array is: ' + str(len(x)) )\n",
    "#now we plot only the first line acquired (15000 samples)\n",
    "plt.plot(x,AllSignal[:15000])\n",
    "plt.title('First Line Acquired')\n",
    "plt.xlabel('Time')\n",
    "plt.ylabel('Unsigned Integer Value')\n",
    "plt.ticklabel_format(style='sci', axis='x', scilimits=(0,0))\n",
    "f.close() #close the file\n"
   ]
  },
  {
   "cell_type": "code",
   "execution_count": null,
   "metadata": {},
   "outputs": [],
   "source": [
    "#We continue plotting other lines (we will plot every line and there are 462) \n",
    "totlines=np.arange(462)\n",
    "for index in totlines:\n",
    "    Signal=AllSignal[index*15000:(index+1)*15000]\n",
    "    plt.plot(x,AllSignal[index*15000:(index+1)*15000])\n",
    "    plt.xlabel('Time')\n",
    "    plt.ylabel('Unsigned Integer Value')\n",
    "    plt.ticklabel_format(style='sci', axis='x', scilimits=(0,0))"
   ]
  },
  {
   "cell_type": "markdown",
   "metadata": {},
   "source": [
    "We can see from above that there are some lines that have noise.\n",
    "\n",
    "We will first analyse the frequency component of a clean and a noisy line."
   ]
  },
  {
   "cell_type": "code",
   "execution_count": null,
   "metadata": {},
   "outputs": [],
   "source": [
    "#The first line is clear\n",
    "FirstLine=AllSignal[:15000]\n",
    "\n",
    "#But some lines are very noisy, for instance line 172\n",
    "NoisyLine=AllSignal[172*15000:(172+1)*15000]\n",
    "\n",
    "plt.subplots_adjust( hspace = .5 )\n",
    "plt.subplot(211)\n",
    "plt.plot(x,FirstLine)\n",
    "plt.ylabel('Fist line - No noise')\n",
    "plt.ticklabel_format(style='sci', axis='x', scilimits=(0,0))\n",
    "plt.subplot(212)\n",
    "plt.plot(x,NoisyLine)\n",
    "plt.xlabel('Time')\n",
    "plt.ylabel('Line 172-Noise')\n",
    "plt.ticklabel_format(style='sci', axis='x', scilimits=(0,0))"
   ]
  },
  {
   "cell_type": "markdown",
   "metadata": {},
   "source": [
    "Now that we have a noisy and a clean line we will obtain the frequency component of those signals using DFT.\n",
    "\n",
    "First lets define the DFT:\n",
    "\n",
    "$$ A_k=\\sum_{m=0}^{n-1}a_m \\exp \\left(-2\\pi i \\frac{mk}{n} \\right ) [k=0,...,n-1] $$\n",
    "\n",
    "If we notice the signal has a dc component (not centered in zero) so unless we want to have a spectrum with a large value of dc or zero frequency we will first remove the dc component (by substracting the mean of the data).\n",
    "\n",
    "We will then obtain the DFT."
   ]
  },
  {
   "cell_type": "code",
   "execution_count": null,
   "metadata": {},
   "outputs": [],
   "source": [
    "#we first eliminate dc\n",
    "dataF=FirstLine-np.mean(FirstLine)\n",
    "L=len(dataF)\n",
    "#the frequencies after fft will be between 0 and 1/2 of the sampling frequency\n",
    "f=np.arange(0,125e6/2,125e6/15000)\n",
    "Y=np.fft.fft(dataF)\n",
    "PyyClean=abs(Y)/L\n",
    "#note: we are showing just L/2 elements which are the positive frequencies and we are normalizing\n",
    "plt.subplot(121)\n",
    "plt.plot(f, PyyClean[:7500])\n",
    "plt.title('DFT of clean line')\n",
    "plt.ticklabel_format(style='sci', axis='x', scilimits=(0,0))\n",
    "#Zooming into just less than 15MHz\n",
    "inx=np.where(f>15e6)\n",
    "inx=inx[0]\n",
    "plt.subplot(122)\n",
    "plt.plot(f[:inx[0]], PyyClean[:inx[0]])\n",
    "plt.title('DFT of clean line')\n",
    "plt.ticklabel_format(style='sci', axis='x', scilimits=(0,0))"
   ]
  },
  {
   "cell_type": "code",
   "execution_count": null,
   "metadata": {},
   "outputs": [],
   "source": [
    "#now we repeat for the noisy line\n",
    "#we first eliminate dc\n",
    "dataN=NoisyLine-np.mean(NoisyLine)\n",
    "L=len(dataN)\n",
    "#the frequencies after fft will be between 0 and 1/2 of the sampling frequency\n",
    "f=np.arange(0,125e6/2,125e6/15000)\n",
    "Y=np.fft.fft(dataN)\n",
    "PyyNoisy=abs(Y)/L\n",
    "#note: we are showing just L/2 elements which are the positive frequencies and we are normalizing\n",
    "plt.subplot(121)\n",
    "plt.plot(f, PyyNoisy[:7500])\n",
    "plt.title('DFT of noisy line')\n",
    "plt.ticklabel_format(style='sci', axis='x', scilimits=(0,0))\n",
    "#Zooming into just less than 15MHz\n",
    "inx=np.where(f>15e6)\n",
    "inx=inx[0]\n",
    "plt.subplot(122)\n",
    "plt.plot(f[:inx[0]], PyyNoisy[:inx[0]])\n",
    "plt.title('DFT of noisy line')\n",
    "plt.ticklabel_format(style='sci', axis='x', scilimits=(0,0))"
   ]
  },
  {
   "cell_type": "markdown",
   "metadata": {},
   "source": [
    "We can clearly see there are large noise peaks at various frequencies. These are actually harmonics of 1.5MHz and it is strong at 4.5MHz.\n",
    "\n",
    "We will use this here to determine a criteria for noise and later on to filter this signal.\n",
    "\n",
    "A nice tool: let's use interactive graph to \"see\" where those peaks are. For this, the backend for matplotlib to use is called nbagg so we will change the inline magic for nbagg.\n"
   ]
  },
  {
   "cell_type": "code",
   "execution_count": null,
   "metadata": {},
   "outputs": [],
   "source": [
    "%matplotlib nbagg\n",
    "\n",
    "##AND WE REPEAT THE CODE\n",
    "\n",
    "#now we repeat for the noisy line\n",
    "#we first eliminate dc\n",
    "dataN=NoisyLine-np.mean(NoisyLine)\n",
    "L=len(dataN)\n",
    "#the frequencies after fft will be between 0 and 1/2 of the sampling frequency\n",
    "f=np.arange(0,125e6/2,125e6/15000)\n",
    "Y=np.fft.fft(dataN)\n",
    "PyyNoisy=abs(Y)/L\n",
    "#note: we are showing just L/2 elements which are the positive frequencies and we are normalizing\n",
    "plt.subplot(121)\n",
    "plt.plot(f, PyyNoisy[:7500])\n",
    "plt.title('DFT of noisy line')\n",
    "plt.ticklabel_format(style='sci', axis='x', scilimits=(0,0))\n",
    "#Zooming into just less than 15MHz\n",
    "inx=np.where(f>15e6)\n",
    "inx=inx[0]\n",
    "plt.subplot(122)\n",
    "plt.plot(f[:inx[0]], PyyNoisy[:inx[0]])\n",
    "plt.title('DFT of noisy line')\n",
    "plt.ticklabel_format(style='sci', axis='x', scilimits=(0,0))"
   ]
  },
  {
   "cell_type": "markdown",
   "metadata": {},
   "source": [
    "## Summary"
   ]
  },
  {
   "cell_type": "markdown",
   "metadata": {},
   "source": [
    "In this example, we executed the Discrete Fourier Transform (DFT) on a clear and noisy signal.\n",
    "\n",
    "Test your knowdelge:\n",
    "\n",
    "Find which line(s) in the acquisition have a noticeable noise (we will define this point as when the noise peak at 4.5MHz reaches an amplitude in the FFT as high as the maximum in the clear line)\n",
    "    1. Use a loop in the code\n",
    "    2. Display all the line numbers that fall under this criteria\n",
    "    3. Display the amplitude of the peak at 4.5MHz for each noisy line\n",
    "\n",
    "Comments and corrections welcome!"
   ]
  },
  {
   "cell_type": "markdown",
   "metadata": {},
   "source": [
    "References\n",
    "---------------\n",
    "\n",
    "* Oppenheim, A. V., and A. S. Willsky. \"Signals and Systems.\" Prentice-Hall, (1997)."
   ]
  }
 ],
 "metadata": {
  "kernelspec": {
   "display_name": "Python 2",
   "language": "python",
   "name": "python2"
  },
  "language_info": {
   "codemirror_mode": {
    "name": "ipython",
    "version": 2
   },
   "file_extension": ".py",
   "mimetype": "text/x-python",
   "name": "python",
   "nbconvert_exporter": "python",
   "pygments_lexer": "ipython2",
   "version": "2.7.13"
  }
 },
 "nbformat": 4,
 "nbformat_minor": 1
}
